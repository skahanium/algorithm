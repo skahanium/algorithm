{
 "cells": [
  {
   "cell_type": "code",
   "execution_count": 1,
   "metadata": {
    "pycharm": {
     "name": "#%%\n"
    }
   },
   "outputs": [],
   "source": [
    "from DataStructure import Stack, Queue, Deque"
   ]
  },
  {
   "cell_type": "code",
   "execution_count": 3,
   "metadata": {
    "pycharm": {
     "name": "#%%\n"
    }
   },
   "outputs": [],
   "source": [
    "def matches(open, close):\n",
    "    \"\"\"检查括号是否匹配，需要open和close作为参数，返回布尔值。\n",
    "\n",
    "    Args:\n",
    "        open (str): 开括号\n",
    "        close (str): 关括号\n",
    "\n",
    "    Returns:\n",
    "        Bool: 检查结果\n",
    "    \"\"\"\n",
    "    opens = \"([{\"\n",
    "    closers = \")]}\"\n",
    "    return opens.index(open) == closers.index(close)\n",
    "\n",
    "\n",
    "def parChecker(symbolString):\n",
    "    \"\"\"括号检查。检查各种括号是否匹配，需要symbolString作为参数，返回布尔值。\n",
    "\n",
    "    Args:\n",
    "        symbolString (str): 待检查的字符串\n",
    "\n",
    "    Returns:\n",
    "        Bool: 检查结果\n",
    "    \"\"\"\n",
    "    s = Stack()\n",
    "    balanced = True\n",
    "    index = 0\n",
    "    while index < len(symbolString) and balanced:\n",
    "        symbol = symbolString[index]\n",
    "        if symbol in \"([{\":\n",
    "            s.push(symbol)\n",
    "        elif s.isEmpty():\n",
    "            balanced = False\n",
    "        else:\n",
    "            top = s.pop()\n",
    "            if not matches(top, symbol):\n",
    "                balanced = False\n",
    "        index += 1\n",
    "    return bool(balanced and s.isEmpty())"
   ]
  },
  {
   "cell_type": "code",
   "execution_count": 4,
   "metadata": {
    "pycharm": {
     "name": "#%%\n"
    }
   },
   "outputs": [],
   "source": [
    "def hotPotato(namelist, num):\n",
    "    \"\"\"烫山芋游戏。需要namelist和num作为参数，返回一个字符串。\n",
    "\n",
    "    Args:\n",
    "        namelist (List): 玩家列表\n",
    "        num (int): 每次山芋传递的人数\n",
    "\n",
    "    Returns:\n",
    "        str: 最终剩下的玩家\n",
    "    \"\"\"\n",
    "    q = Queue()\n",
    "    for name in namelist:\n",
    "        q.enqueue(name)\n",
    "    while q.size() > 1:\n",
    "        for _ in range(num):\n",
    "            q.enqueue(q.dequeue())\n",
    "        q.dequeue()\n",
    "    return q.dequeue()"
   ]
  },
  {
   "cell_type": "code",
   "execution_count": null,
   "metadata": {
    "pycharm": {
     "name": "#%%\n"
    }
   },
   "outputs": [],
   "source": [
    "def palchecker(aString):\n",
    "    \"\"\"回文检查。检查字符串是否是回文，需要aString作为参数，返回布尔值。\n",
    "\n",
    "    Args:\n",
    "        aString (str): 待检查的字符串\n",
    "\n",
    "    Returns:\n",
    "        Bool: 检查结果\n",
    "    \"\"\"\n",
    "    s = Deque()\n",
    "    for ch in aString:\n",
    "        s.addRear(ch)\n",
    "    flag = True\n",
    "    while s.size() > 1 and flag:\n",
    "        if s.removeFront() != s.removeRear():\n",
    "            flag = False\n",
    "    return flag"
   ]
  }
 ],
 "metadata": {
  "kernelspec": {
   "display_name": "Python 3.10.5 64-bit",
   "language": "python",
   "name": "python3"
  },
  "language_info": {
   "codemirror_mode": {
    "name": "ipython",
    "version": 3
   },
   "file_extension": ".py",
   "mimetype": "text/x-python",
   "name": "python",
   "nbconvert_exporter": "python",
   "pygments_lexer": "ipython3",
   "version": "3.10.5"
  },
  "orig_nbformat": 4,
  "vscode": {
   "interpreter": {
    "hash": "9c48050507e7955e1c442f3c61fb234d93c2494137962ec3b12b50d0cb3587e6"
   }
  }
 },
 "nbformat": 4,
 "nbformat_minor": 2
}
