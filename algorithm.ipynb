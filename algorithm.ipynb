{
 "cells": [
  {
   "cell_type": "code",
   "execution_count": 1,
   "metadata": {
    "pycharm": {
     "name": "#%%\n"
    }
   },
   "outputs": [],
   "source": [
    "def listsum(numList): \n",
    "    theSum = 0\n",
    "    for i in numList: \n",
    "        theSum = theSum + i\n",
    "    return theSum"
   ]
  },
  {
   "cell_type": "code",
   "execution_count": 2,
   "metadata": {
    "pycharm": {
     "name": "#%%\n"
    }
   },
   "outputs": [],
   "source": [
    "def listsum2(numList):\n",
    "    return numList[0] if len(numList) == 1 else numList[0] + listsum(numList[1:])"
   ]
  }
 ],
 "metadata": {
  "interpreter": {
   "hash": "c1ed60751199cbb464f5682bbe3de21492ee4c82fed5a5bfd63cbf0e68ede024"
  },
  "kernelspec": {
   "display_name": "Python 3.8.12 ('econometric')",
   "language": "python",
   "name": "python3"
  },
  "language_info": {
   "codemirror_mode": {
    "name": "ipython",
    "version": 3
   },
   "file_extension": ".py",
   "mimetype": "text/x-python",
   "name": "python",
   "nbconvert_exporter": "python",
   "pygments_lexer": "ipython3",
   "version": "3.8.12"
  },
  "orig_nbformat": 4
 },
 "nbformat": 4,
 "nbformat_minor": 2
}